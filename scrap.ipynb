{
 "cells": [
  {
   "cell_type": "code",
   "execution_count": 24,
   "metadata": {},
   "outputs": [],
   "source": [
    "import pandas as pd"
   ]
  },
  {
   "cell_type": "code",
   "execution_count": 25,
   "metadata": {},
   "outputs": [],
   "source": [
    "import requests"
   ]
  },
  {
   "cell_type": "code",
   "execution_count": 26,
   "metadata": {},
   "outputs": [],
   "source": [
    "from selenium import webdriver\n",
    "from selenium.webdriver.chrome.service import Service\n",
    "from selenium.webdriver.common.by import By"
   ]
  },
  {
   "cell_type": "code",
   "execution_count": 27,
   "metadata": {},
   "outputs": [],
   "source": [
    "service=Service()\n",
    "options=webdriver.ChromeOptions()\n",
    "driver=webdriver.Chrome(service=service, options=options)"
   ]
  },
  {
   "cell_type": "code",
   "execution_count": 28,
   "metadata": {},
   "outputs": [],
   "source": [
    "from selenium import webdriver\n",
    "navegador=webdriver.Chrome()\n",
    "navegador.get('https://books.toscrape.com/')"
   ]
  },
  {
   "cell_type": "code",
   "execution_count": 29,
   "metadata": {},
   "outputs": [
    {
     "data": {
      "text/plain": [
       "'Books to Scrape'"
      ]
     },
     "execution_count": 29,
     "metadata": {},
     "output_type": "execute_result"
    }
   ],
   "source": [
    "navegador.find_element(By.TAG_NAME, 'a').text"
   ]
  },
  {
   "cell_type": "code",
   "execution_count": 30,
   "metadata": {},
   "outputs": [
    {
     "data": {
      "text/plain": [
       "'Books to Scrape'"
      ]
     },
     "execution_count": 30,
     "metadata": {},
     "output_type": "execute_result"
    }
   ],
   "source": [
    "navegador.find_elements(By.TAG_NAME, 'a')[0].text"
   ]
  },
  {
   "cell_type": "code",
   "execution_count": 31,
   "metadata": {},
   "outputs": [
    {
     "data": {
      "text/plain": [
       "<selenium.webdriver.remote.webelement.WebElement (session=\"14eb08abbe5b76da82da1208de00f1cb\", element=\"f.D2A6A8ED4A24DC603CB833FDF3B2910C.d.9AFB6586AC849E4C89D85BE2D98D86C9.e.82\")>"
      ]
     },
     "execution_count": 31,
     "metadata": {},
     "output_type": "execute_result"
    }
   ],
   "source": [
    "navegador.find_elements(By.TAG_NAME, 'a')[54]"
   ]
  },
  {
   "cell_type": "code",
   "execution_count": 32,
   "metadata": {},
   "outputs": [
    {
     "data": {
      "text/plain": [
       "'A Light in the Attic'"
      ]
     },
     "execution_count": 32,
     "metadata": {},
     "output_type": "execute_result"
    }
   ],
   "source": [
    "navegador.find_elements(By.TAG_NAME, 'a')[54].get_attribute('title')"
   ]
  },
  {
   "cell_type": "code",
   "execution_count": 33,
   "metadata": {},
   "outputs": [
    {
     "data": {
      "text/plain": [
       "[<selenium.webdriver.remote.webelement.WebElement (session=\"14eb08abbe5b76da82da1208de00f1cb\", element=\"f.D2A6A8ED4A24DC603CB833FDF3B2910C.d.9AFB6586AC849E4C89D85BE2D98D86C9.e.82\")>,\n",
       " <selenium.webdriver.remote.webelement.WebElement (session=\"14eb08abbe5b76da82da1208de00f1cb\", element=\"f.D2A6A8ED4A24DC603CB833FDF3B2910C.d.9AFB6586AC849E4C89D85BE2D98D86C9.e.84\")>,\n",
       " <selenium.webdriver.remote.webelement.WebElement (session=\"14eb08abbe5b76da82da1208de00f1cb\", element=\"f.D2A6A8ED4A24DC603CB833FDF3B2910C.d.9AFB6586AC849E4C89D85BE2D98D86C9.e.86\")>,\n",
       " <selenium.webdriver.remote.webelement.WebElement (session=\"14eb08abbe5b76da82da1208de00f1cb\", element=\"f.D2A6A8ED4A24DC603CB833FDF3B2910C.d.9AFB6586AC849E4C89D85BE2D98D86C9.e.88\")>,\n",
       " <selenium.webdriver.remote.webelement.WebElement (session=\"14eb08abbe5b76da82da1208de00f1cb\", element=\"f.D2A6A8ED4A24DC603CB833FDF3B2910C.d.9AFB6586AC849E4C89D85BE2D98D86C9.e.90\")>,\n",
       " <selenium.webdriver.remote.webelement.WebElement (session=\"14eb08abbe5b76da82da1208de00f1cb\", element=\"f.D2A6A8ED4A24DC603CB833FDF3B2910C.d.9AFB6586AC849E4C89D85BE2D98D86C9.e.92\")>,\n",
       " <selenium.webdriver.remote.webelement.WebElement (session=\"14eb08abbe5b76da82da1208de00f1cb\", element=\"f.D2A6A8ED4A24DC603CB833FDF3B2910C.d.9AFB6586AC849E4C89D85BE2D98D86C9.e.94\")>,\n",
       " <selenium.webdriver.remote.webelement.WebElement (session=\"14eb08abbe5b76da82da1208de00f1cb\", element=\"f.D2A6A8ED4A24DC603CB833FDF3B2910C.d.9AFB6586AC849E4C89D85BE2D98D86C9.e.96\")>,\n",
       " <selenium.webdriver.remote.webelement.WebElement (session=\"14eb08abbe5b76da82da1208de00f1cb\", element=\"f.D2A6A8ED4A24DC603CB833FDF3B2910C.d.9AFB6586AC849E4C89D85BE2D98D86C9.e.98\")>,\n",
       " <selenium.webdriver.remote.webelement.WebElement (session=\"14eb08abbe5b76da82da1208de00f1cb\", element=\"f.D2A6A8ED4A24DC603CB833FDF3B2910C.d.9AFB6586AC849E4C89D85BE2D98D86C9.e.100\")>,\n",
       " <selenium.webdriver.remote.webelement.WebElement (session=\"14eb08abbe5b76da82da1208de00f1cb\", element=\"f.D2A6A8ED4A24DC603CB833FDF3B2910C.d.9AFB6586AC849E4C89D85BE2D98D86C9.e.102\")>,\n",
       " <selenium.webdriver.remote.webelement.WebElement (session=\"14eb08abbe5b76da82da1208de00f1cb\", element=\"f.D2A6A8ED4A24DC603CB833FDF3B2910C.d.9AFB6586AC849E4C89D85BE2D98D86C9.e.104\")>,\n",
       " <selenium.webdriver.remote.webelement.WebElement (session=\"14eb08abbe5b76da82da1208de00f1cb\", element=\"f.D2A6A8ED4A24DC603CB833FDF3B2910C.d.9AFB6586AC849E4C89D85BE2D98D86C9.e.106\")>,\n",
       " <selenium.webdriver.remote.webelement.WebElement (session=\"14eb08abbe5b76da82da1208de00f1cb\", element=\"f.D2A6A8ED4A24DC603CB833FDF3B2910C.d.9AFB6586AC849E4C89D85BE2D98D86C9.e.108\")>,\n",
       " <selenium.webdriver.remote.webelement.WebElement (session=\"14eb08abbe5b76da82da1208de00f1cb\", element=\"f.D2A6A8ED4A24DC603CB833FDF3B2910C.d.9AFB6586AC849E4C89D85BE2D98D86C9.e.110\")>,\n",
       " <selenium.webdriver.remote.webelement.WebElement (session=\"14eb08abbe5b76da82da1208de00f1cb\", element=\"f.D2A6A8ED4A24DC603CB833FDF3B2910C.d.9AFB6586AC849E4C89D85BE2D98D86C9.e.112\")>,\n",
       " <selenium.webdriver.remote.webelement.WebElement (session=\"14eb08abbe5b76da82da1208de00f1cb\", element=\"f.D2A6A8ED4A24DC603CB833FDF3B2910C.d.9AFB6586AC849E4C89D85BE2D98D86C9.e.114\")>,\n",
       " <selenium.webdriver.remote.webelement.WebElement (session=\"14eb08abbe5b76da82da1208de00f1cb\", element=\"f.D2A6A8ED4A24DC603CB833FDF3B2910C.d.9AFB6586AC849E4C89D85BE2D98D86C9.e.116\")>,\n",
       " <selenium.webdriver.remote.webelement.WebElement (session=\"14eb08abbe5b76da82da1208de00f1cb\", element=\"f.D2A6A8ED4A24DC603CB833FDF3B2910C.d.9AFB6586AC849E4C89D85BE2D98D86C9.e.118\")>,\n",
       " <selenium.webdriver.remote.webelement.WebElement (session=\"14eb08abbe5b76da82da1208de00f1cb\", element=\"f.D2A6A8ED4A24DC603CB833FDF3B2910C.d.9AFB6586AC849E4C89D85BE2D98D86C9.e.120\")>]"
      ]
     },
     "execution_count": 33,
     "metadata": {},
     "output_type": "execute_result"
    }
   ],
   "source": [
    "navegador.find_elements(By.TAG_NAME, 'a')[54:94:2]"
   ]
  },
  {
   "cell_type": "code",
   "execution_count": 34,
   "metadata": {},
   "outputs": [
    {
     "data": {
      "text/plain": [
       "20"
      ]
     },
     "execution_count": 34,
     "metadata": {},
     "output_type": "execute_result"
    }
   ],
   "source": [
    "len(navegador.find_elements(By.TAG_NAME, 'a')[54:94:2])"
   ]
  },
  {
   "cell_type": "code",
   "execution_count": 35,
   "metadata": {},
   "outputs": [
    {
     "data": {
      "text/plain": [
       "[<selenium.webdriver.remote.webelement.WebElement (session=\"14eb08abbe5b76da82da1208de00f1cb\", element=\"f.D2A6A8ED4A24DC603CB833FDF3B2910C.d.9AFB6586AC849E4C89D85BE2D98D86C9.e.82\")>,\n",
       " <selenium.webdriver.remote.webelement.WebElement (session=\"14eb08abbe5b76da82da1208de00f1cb\", element=\"f.D2A6A8ED4A24DC603CB833FDF3B2910C.d.9AFB6586AC849E4C89D85BE2D98D86C9.e.84\")>,\n",
       " <selenium.webdriver.remote.webelement.WebElement (session=\"14eb08abbe5b76da82da1208de00f1cb\", element=\"f.D2A6A8ED4A24DC603CB833FDF3B2910C.d.9AFB6586AC849E4C89D85BE2D98D86C9.e.86\")>,\n",
       " <selenium.webdriver.remote.webelement.WebElement (session=\"14eb08abbe5b76da82da1208de00f1cb\", element=\"f.D2A6A8ED4A24DC603CB833FDF3B2910C.d.9AFB6586AC849E4C89D85BE2D98D86C9.e.88\")>,\n",
       " <selenium.webdriver.remote.webelement.WebElement (session=\"14eb08abbe5b76da82da1208de00f1cb\", element=\"f.D2A6A8ED4A24DC603CB833FDF3B2910C.d.9AFB6586AC849E4C89D85BE2D98D86C9.e.90\")>,\n",
       " <selenium.webdriver.remote.webelement.WebElement (session=\"14eb08abbe5b76da82da1208de00f1cb\", element=\"f.D2A6A8ED4A24DC603CB833FDF3B2910C.d.9AFB6586AC849E4C89D85BE2D98D86C9.e.92\")>,\n",
       " <selenium.webdriver.remote.webelement.WebElement (session=\"14eb08abbe5b76da82da1208de00f1cb\", element=\"f.D2A6A8ED4A24DC603CB833FDF3B2910C.d.9AFB6586AC849E4C89D85BE2D98D86C9.e.94\")>,\n",
       " <selenium.webdriver.remote.webelement.WebElement (session=\"14eb08abbe5b76da82da1208de00f1cb\", element=\"f.D2A6A8ED4A24DC603CB833FDF3B2910C.d.9AFB6586AC849E4C89D85BE2D98D86C9.e.96\")>,\n",
       " <selenium.webdriver.remote.webelement.WebElement (session=\"14eb08abbe5b76da82da1208de00f1cb\", element=\"f.D2A6A8ED4A24DC603CB833FDF3B2910C.d.9AFB6586AC849E4C89D85BE2D98D86C9.e.98\")>,\n",
       " <selenium.webdriver.remote.webelement.WebElement (session=\"14eb08abbe5b76da82da1208de00f1cb\", element=\"f.D2A6A8ED4A24DC603CB833FDF3B2910C.d.9AFB6586AC849E4C89D85BE2D98D86C9.e.100\")>,\n",
       " <selenium.webdriver.remote.webelement.WebElement (session=\"14eb08abbe5b76da82da1208de00f1cb\", element=\"f.D2A6A8ED4A24DC603CB833FDF3B2910C.d.9AFB6586AC849E4C89D85BE2D98D86C9.e.102\")>,\n",
       " <selenium.webdriver.remote.webelement.WebElement (session=\"14eb08abbe5b76da82da1208de00f1cb\", element=\"f.D2A6A8ED4A24DC603CB833FDF3B2910C.d.9AFB6586AC849E4C89D85BE2D98D86C9.e.104\")>,\n",
       " <selenium.webdriver.remote.webelement.WebElement (session=\"14eb08abbe5b76da82da1208de00f1cb\", element=\"f.D2A6A8ED4A24DC603CB833FDF3B2910C.d.9AFB6586AC849E4C89D85BE2D98D86C9.e.106\")>,\n",
       " <selenium.webdriver.remote.webelement.WebElement (session=\"14eb08abbe5b76da82da1208de00f1cb\", element=\"f.D2A6A8ED4A24DC603CB833FDF3B2910C.d.9AFB6586AC849E4C89D85BE2D98D86C9.e.108\")>,\n",
       " <selenium.webdriver.remote.webelement.WebElement (session=\"14eb08abbe5b76da82da1208de00f1cb\", element=\"f.D2A6A8ED4A24DC603CB833FDF3B2910C.d.9AFB6586AC849E4C89D85BE2D98D86C9.e.110\")>,\n",
       " <selenium.webdriver.remote.webelement.WebElement (session=\"14eb08abbe5b76da82da1208de00f1cb\", element=\"f.D2A6A8ED4A24DC603CB833FDF3B2910C.d.9AFB6586AC849E4C89D85BE2D98D86C9.e.112\")>,\n",
       " <selenium.webdriver.remote.webelement.WebElement (session=\"14eb08abbe5b76da82da1208de00f1cb\", element=\"f.D2A6A8ED4A24DC603CB833FDF3B2910C.d.9AFB6586AC849E4C89D85BE2D98D86C9.e.114\")>,\n",
       " <selenium.webdriver.remote.webelement.WebElement (session=\"14eb08abbe5b76da82da1208de00f1cb\", element=\"f.D2A6A8ED4A24DC603CB833FDF3B2910C.d.9AFB6586AC849E4C89D85BE2D98D86C9.e.116\")>,\n",
       " <selenium.webdriver.remote.webelement.WebElement (session=\"14eb08abbe5b76da82da1208de00f1cb\", element=\"f.D2A6A8ED4A24DC603CB833FDF3B2910C.d.9AFB6586AC849E4C89D85BE2D98D86C9.e.118\")>,\n",
       " <selenium.webdriver.remote.webelement.WebElement (session=\"14eb08abbe5b76da82da1208de00f1cb\", element=\"f.D2A6A8ED4A24DC603CB833FDF3B2910C.d.9AFB6586AC849E4C89D85BE2D98D86C9.e.120\")>]"
      ]
     },
     "execution_count": 35,
     "metadata": {},
     "output_type": "execute_result"
    }
   ],
   "source": [
    "titlelements=navegador.find_elements(By.TAG_NAME, 'a')[54:94:2]\n",
    "titlelements"
   ]
  },
  {
   "cell_type": "code",
   "execution_count": 36,
   "metadata": {},
   "outputs": [
    {
     "data": {
      "text/plain": [
       "['A Light in the Attic',\n",
       " 'Tipping the Velvet',\n",
       " 'Soumission',\n",
       " 'Sharp Objects',\n",
       " 'Sapiens: A Brief History of Humankind',\n",
       " 'The Requiem Red',\n",
       " 'The Dirty Little Secrets of Getting Your Dream Job',\n",
       " 'The Coming Woman: A Novel Based on the Life of the Infamous Feminist, Victoria Woodhull',\n",
       " 'The Boys in the Boat: Nine Americans and Their Epic Quest for Gold at the 1936 Berlin Olympics',\n",
       " 'The Black Maria',\n",
       " 'Starving Hearts (Triangular Trade Trilogy, #1)',\n",
       " \"Shakespeare's Sonnets\",\n",
       " 'Set Me Free',\n",
       " \"Scott Pilgrim's Precious Little Life (Scott Pilgrim #1)\",\n",
       " 'Rip it Up and Start Again',\n",
       " 'Our Band Could Be Your Life: Scenes from the American Indie Underground, 1981-1991',\n",
       " 'Olio',\n",
       " 'Mesaerion: The Best Science Fiction Stories 1800-1849',\n",
       " 'Libertarianism for Beginners',\n",
       " \"It's Only the Himalayas\"]"
      ]
     },
     "execution_count": 36,
     "metadata": {},
     "output_type": "execute_result"
    }
   ],
   "source": [
    "titlelist=[title.get_attribute('title') for title in titlelements]\n",
    "titlelist"
   ]
  },
  {
   "cell_type": "code",
   "execution_count": 37,
   "metadata": {},
   "outputs": [],
   "source": [
    "titlelements=navegador.find_elements(By.TAG_NAME, 'a')[54:94:2]\n",
    "\n",
    "titlelements[2].click()\n"
   ]
  },
  {
   "cell_type": "code",
   "execution_count": 38,
   "metadata": {},
   "outputs": [
    {
     "data": {
      "text/plain": [
       "20"
      ]
     },
     "execution_count": 38,
     "metadata": {},
     "output_type": "execute_result"
    }
   ],
   "source": [
    "int(navegador.find_element(By.CLASS_NAME,'instock').text.replace('In stock (','').replace(' available)',''))"
   ]
  },
  {
   "cell_type": "code",
   "execution_count": 39,
   "metadata": {},
   "outputs": [],
   "source": [
    "navegador.back()"
   ]
  },
  {
   "cell_type": "code",
   "execution_count": 42,
   "metadata": {},
   "outputs": [],
   "source": [
    "titlelements=navegador.find_elements(By.TAG_NAME, 'a')[54:94:2]\n",
    "stocklist=[]\n",
    "for title in titlelements:\n",
    "    title.click()\n",
    "    qstock=int(navegador.find_element(By.CLASS_NAME,'instock').text.replace('In stock (','').replace(' available)',''))\n",
    "    stocklist.append(qstock)\n",
    "    navegador.back()\n"
   ]
  },
  {
   "cell_type": "code",
   "execution_count": 43,
   "metadata": {},
   "outputs": [
    {
     "data": {
      "text/plain": [
       "[22,\n",
       " 20,\n",
       " 20,\n",
       " 20,\n",
       " 20,\n",
       " 19,\n",
       " 19,\n",
       " 19,\n",
       " 19,\n",
       " 19,\n",
       " 19,\n",
       " 19,\n",
       " 19,\n",
       " 19,\n",
       " 19,\n",
       " 19,\n",
       " 19,\n",
       " 19,\n",
       " 19,\n",
       " 19]"
      ]
     },
     "execution_count": 43,
     "metadata": {},
     "output_type": "execute_result"
    }
   ],
   "source": [
    "stocklist"
   ]
  },
  {
   "cell_type": "code",
   "execution_count": 44,
   "metadata": {},
   "outputs": [
    {
     "data": {
      "text/html": [
       "<div>\n",
       "<style scoped>\n",
       "    .dataframe tbody tr th:only-of-type {\n",
       "        vertical-align: middle;\n",
       "    }\n",
       "\n",
       "    .dataframe tbody tr th {\n",
       "        vertical-align: top;\n",
       "    }\n",
       "\n",
       "    .dataframe thead th {\n",
       "        text-align: right;\n",
       "    }\n",
       "</style>\n",
       "<table border=\"1\" class=\"dataframe\">\n",
       "  <thead>\n",
       "    <tr style=\"text-align: right;\">\n",
       "      <th></th>\n",
       "      <th>Title</th>\n",
       "      <th>Stock</th>\n",
       "    </tr>\n",
       "  </thead>\n",
       "  <tbody>\n",
       "    <tr>\n",
       "      <th>0</th>\n",
       "      <td>A Light in the Attic</td>\n",
       "      <td>22</td>\n",
       "    </tr>\n",
       "    <tr>\n",
       "      <th>1</th>\n",
       "      <td>Tipping the Velvet</td>\n",
       "      <td>20</td>\n",
       "    </tr>\n",
       "    <tr>\n",
       "      <th>2</th>\n",
       "      <td>Soumission</td>\n",
       "      <td>20</td>\n",
       "    </tr>\n",
       "    <tr>\n",
       "      <th>3</th>\n",
       "      <td>Sharp Objects</td>\n",
       "      <td>20</td>\n",
       "    </tr>\n",
       "    <tr>\n",
       "      <th>4</th>\n",
       "      <td>Sapiens: A Brief History of Humankind</td>\n",
       "      <td>20</td>\n",
       "    </tr>\n",
       "    <tr>\n",
       "      <th>5</th>\n",
       "      <td>The Requiem Red</td>\n",
       "      <td>19</td>\n",
       "    </tr>\n",
       "    <tr>\n",
       "      <th>6</th>\n",
       "      <td>The Dirty Little Secrets of Getting Your Dream...</td>\n",
       "      <td>19</td>\n",
       "    </tr>\n",
       "    <tr>\n",
       "      <th>7</th>\n",
       "      <td>The Coming Woman: A Novel Based on the Life of...</td>\n",
       "      <td>19</td>\n",
       "    </tr>\n",
       "    <tr>\n",
       "      <th>8</th>\n",
       "      <td>The Boys in the Boat: Nine Americans and Their...</td>\n",
       "      <td>19</td>\n",
       "    </tr>\n",
       "    <tr>\n",
       "      <th>9</th>\n",
       "      <td>The Black Maria</td>\n",
       "      <td>19</td>\n",
       "    </tr>\n",
       "    <tr>\n",
       "      <th>10</th>\n",
       "      <td>Starving Hearts (Triangular Trade Trilogy, #1)</td>\n",
       "      <td>19</td>\n",
       "    </tr>\n",
       "    <tr>\n",
       "      <th>11</th>\n",
       "      <td>Shakespeare's Sonnets</td>\n",
       "      <td>19</td>\n",
       "    </tr>\n",
       "    <tr>\n",
       "      <th>12</th>\n",
       "      <td>Set Me Free</td>\n",
       "      <td>19</td>\n",
       "    </tr>\n",
       "    <tr>\n",
       "      <th>13</th>\n",
       "      <td>Scott Pilgrim's Precious Little Life (Scott Pi...</td>\n",
       "      <td>19</td>\n",
       "    </tr>\n",
       "    <tr>\n",
       "      <th>14</th>\n",
       "      <td>Rip it Up and Start Again</td>\n",
       "      <td>19</td>\n",
       "    </tr>\n",
       "    <tr>\n",
       "      <th>15</th>\n",
       "      <td>Our Band Could Be Your Life: Scenes from the A...</td>\n",
       "      <td>19</td>\n",
       "    </tr>\n",
       "    <tr>\n",
       "      <th>16</th>\n",
       "      <td>Olio</td>\n",
       "      <td>19</td>\n",
       "    </tr>\n",
       "    <tr>\n",
       "      <th>17</th>\n",
       "      <td>Mesaerion: The Best Science Fiction Stories 18...</td>\n",
       "      <td>19</td>\n",
       "    </tr>\n",
       "    <tr>\n",
       "      <th>18</th>\n",
       "      <td>Libertarianism for Beginners</td>\n",
       "      <td>19</td>\n",
       "    </tr>\n",
       "    <tr>\n",
       "      <th>19</th>\n",
       "      <td>It's Only the Himalayas</td>\n",
       "      <td>19</td>\n",
       "    </tr>\n",
       "  </tbody>\n",
       "</table>\n",
       "</div>"
      ],
      "text/plain": [
       "                                                Title  Stock\n",
       "0                                A Light in the Attic     22\n",
       "1                                  Tipping the Velvet     20\n",
       "2                                          Soumission     20\n",
       "3                                       Sharp Objects     20\n",
       "4               Sapiens: A Brief History of Humankind     20\n",
       "5                                     The Requiem Red     19\n",
       "6   The Dirty Little Secrets of Getting Your Dream...     19\n",
       "7   The Coming Woman: A Novel Based on the Life of...     19\n",
       "8   The Boys in the Boat: Nine Americans and Their...     19\n",
       "9                                     The Black Maria     19\n",
       "10     Starving Hearts (Triangular Trade Trilogy, #1)     19\n",
       "11                              Shakespeare's Sonnets     19\n",
       "12                                        Set Me Free     19\n",
       "13  Scott Pilgrim's Precious Little Life (Scott Pi...     19\n",
       "14                          Rip it Up and Start Again     19\n",
       "15  Our Band Could Be Your Life: Scenes from the A...     19\n",
       "16                                               Olio     19\n",
       "17  Mesaerion: The Best Science Fiction Stories 18...     19\n",
       "18                       Libertarianism for Beginners     19\n",
       "19                            It's Only the Himalayas     19"
      ]
     },
     "execution_count": 44,
     "metadata": {},
     "output_type": "execute_result"
    }
   ],
   "source": [
    "dicbocks={'Title': titlelist,\n",
    "          'Stock': stocklist}\n",
    "pd.DataFrame(dicbocks)"
   ]
  },
  {
   "cell_type": "code",
   "execution_count": null,
   "metadata": {},
   "outputs": [],
   "source": [
    "titlelements=navegador.find_elements(By.TAG_NAME, 'a')[54:94:2]"
   ]
  },
  {
   "cell_type": "code",
   "execution_count": 49,
   "metadata": {},
   "outputs": [
    {
     "data": {
      "text/plain": [
       "[<selenium.webdriver.remote.webelement.WebElement (session=\"14eb08abbe5b76da82da1208de00f1cb\", element=\"f.D2A6A8ED4A24DC603CB833FDF3B2910C.d.F6DB72990AEBFBAE4874B4FF963C1493.e.853\")>,\n",
       " <selenium.webdriver.remote.webelement.WebElement (session=\"14eb08abbe5b76da82da1208de00f1cb\", element=\"f.D2A6A8ED4A24DC603CB833FDF3B2910C.d.F6DB72990AEBFBAE4874B4FF963C1493.e.854\")>,\n",
       " <selenium.webdriver.remote.webelement.WebElement (session=\"14eb08abbe5b76da82da1208de00f1cb\", element=\"f.D2A6A8ED4A24DC603CB833FDF3B2910C.d.F6DB72990AEBFBAE4874B4FF963C1493.e.855\")>,\n",
       " <selenium.webdriver.remote.webelement.WebElement (session=\"14eb08abbe5b76da82da1208de00f1cb\", element=\"f.D2A6A8ED4A24DC603CB833FDF3B2910C.d.F6DB72990AEBFBAE4874B4FF963C1493.e.856\")>,\n",
       " <selenium.webdriver.remote.webelement.WebElement (session=\"14eb08abbe5b76da82da1208de00f1cb\", element=\"f.D2A6A8ED4A24DC603CB833FDF3B2910C.d.F6DB72990AEBFBAE4874B4FF963C1493.e.857\")>,\n",
       " <selenium.webdriver.remote.webelement.WebElement (session=\"14eb08abbe5b76da82da1208de00f1cb\", element=\"f.D2A6A8ED4A24DC603CB833FDF3B2910C.d.F6DB72990AEBFBAE4874B4FF963C1493.e.858\")>,\n",
       " <selenium.webdriver.remote.webelement.WebElement (session=\"14eb08abbe5b76da82da1208de00f1cb\", element=\"f.D2A6A8ED4A24DC603CB833FDF3B2910C.d.F6DB72990AEBFBAE4874B4FF963C1493.e.859\")>,\n",
       " <selenium.webdriver.remote.webelement.WebElement (session=\"14eb08abbe5b76da82da1208de00f1cb\", element=\"f.D2A6A8ED4A24DC603CB833FDF3B2910C.d.F6DB72990AEBFBAE4874B4FF963C1493.e.860\")>,\n",
       " <selenium.webdriver.remote.webelement.WebElement (session=\"14eb08abbe5b76da82da1208de00f1cb\", element=\"f.D2A6A8ED4A24DC603CB833FDF3B2910C.d.F6DB72990AEBFBAE4874B4FF963C1493.e.861\")>,\n",
       " <selenium.webdriver.remote.webelement.WebElement (session=\"14eb08abbe5b76da82da1208de00f1cb\", element=\"f.D2A6A8ED4A24DC603CB833FDF3B2910C.d.F6DB72990AEBFBAE4874B4FF963C1493.e.862\")>,\n",
       " <selenium.webdriver.remote.webelement.WebElement (session=\"14eb08abbe5b76da82da1208de00f1cb\", element=\"f.D2A6A8ED4A24DC603CB833FDF3B2910C.d.F6DB72990AEBFBAE4874B4FF963C1493.e.863\")>,\n",
       " <selenium.webdriver.remote.webelement.WebElement (session=\"14eb08abbe5b76da82da1208de00f1cb\", element=\"f.D2A6A8ED4A24DC603CB833FDF3B2910C.d.F6DB72990AEBFBAE4874B4FF963C1493.e.864\")>,\n",
       " <selenium.webdriver.remote.webelement.WebElement (session=\"14eb08abbe5b76da82da1208de00f1cb\", element=\"f.D2A6A8ED4A24DC603CB833FDF3B2910C.d.F6DB72990AEBFBAE4874B4FF963C1493.e.865\")>,\n",
       " <selenium.webdriver.remote.webelement.WebElement (session=\"14eb08abbe5b76da82da1208de00f1cb\", element=\"f.D2A6A8ED4A24DC603CB833FDF3B2910C.d.F6DB72990AEBFBAE4874B4FF963C1493.e.866\")>,\n",
       " <selenium.webdriver.remote.webelement.WebElement (session=\"14eb08abbe5b76da82da1208de00f1cb\", element=\"f.D2A6A8ED4A24DC603CB833FDF3B2910C.d.F6DB72990AEBFBAE4874B4FF963C1493.e.867\")>,\n",
       " <selenium.webdriver.remote.webelement.WebElement (session=\"14eb08abbe5b76da82da1208de00f1cb\", element=\"f.D2A6A8ED4A24DC603CB833FDF3B2910C.d.F6DB72990AEBFBAE4874B4FF963C1493.e.868\")>,\n",
       " <selenium.webdriver.remote.webelement.WebElement (session=\"14eb08abbe5b76da82da1208de00f1cb\", element=\"f.D2A6A8ED4A24DC603CB833FDF3B2910C.d.F6DB72990AEBFBAE4874B4FF963C1493.e.869\")>,\n",
       " <selenium.webdriver.remote.webelement.WebElement (session=\"14eb08abbe5b76da82da1208de00f1cb\", element=\"f.D2A6A8ED4A24DC603CB833FDF3B2910C.d.F6DB72990AEBFBAE4874B4FF963C1493.e.870\")>,\n",
       " <selenium.webdriver.remote.webelement.WebElement (session=\"14eb08abbe5b76da82da1208de00f1cb\", element=\"f.D2A6A8ED4A24DC603CB833FDF3B2910C.d.F6DB72990AEBFBAE4874B4FF963C1493.e.871\")>,\n",
       " <selenium.webdriver.remote.webelement.WebElement (session=\"14eb08abbe5b76da82da1208de00f1cb\", element=\"f.D2A6A8ED4A24DC603CB833FDF3B2910C.d.F6DB72990AEBFBAE4874B4FF963C1493.e.872\")>]"
      ]
     },
     "execution_count": 49,
     "metadata": {},
     "output_type": "execute_result"
    }
   ],
   "source": [
    "prices=navegador.find_elements(By.CLASS_NAME,'price_color')\n",
    "prices "
   ]
  },
  {
   "cell_type": "code",
   "execution_count": 50,
   "metadata": {},
   "outputs": [
    {
     "name": "stdout",
     "output_type": "stream",
     "text": [
      "20\n"
     ]
    }
   ],
   "source": [
    "print(len(prices))"
   ]
  }
 ],
 "metadata": {
  "kernelspec": {
   "display_name": "Python 3",
   "language": "python",
   "name": "python3"
  },
  "language_info": {
   "codemirror_mode": {
    "name": "ipython",
    "version": 3
   },
   "file_extension": ".py",
   "mimetype": "text/x-python",
   "name": "python",
   "nbconvert_exporter": "python",
   "pygments_lexer": "ipython3",
   "version": "3.10.11"
  }
 },
 "nbformat": 4,
 "nbformat_minor": 2
}
