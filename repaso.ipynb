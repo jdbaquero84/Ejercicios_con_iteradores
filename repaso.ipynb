{
 "cells": [
  {
   "cell_type": "code",
   "execution_count": 2,
   "metadata": {},
   "outputs": [
    {
     "data": {
      "text/plain": [
       "'hola mundo'"
      ]
     },
     "execution_count": 2,
     "metadata": {},
     "output_type": "execute_result"
    }
   ],
   "source": [
    "text='HOLA MUNDO'\n",
    "text.lower()"
   ]
  },
  {
   "cell_type": "code",
   "execution_count": 3,
   "metadata": {},
   "outputs": [
    {
     "data": {
      "text/plain": [
       "'HOLA JULIAN'"
      ]
     },
     "execution_count": 3,
     "metadata": {},
     "output_type": "execute_result"
    }
   ],
   "source": [
    "text2='hola julian'\n",
    "text2.upper()"
   ]
  },
  {
   "cell_type": "code",
   "execution_count": 4,
   "metadata": {},
   "outputs": [
    {
     "name": "stdout",
     "output_type": "stream",
     "text": [
      "['HOLA', 'MUNDO']\n"
     ]
    }
   ],
   "source": [
    "words=text.split()\n",
    "print(words)"
   ]
  },
  {
   "cell_type": "code",
   "execution_count": 5,
   "metadata": {},
   "outputs": [
    {
     "name": "stdout",
     "output_type": "stream",
     "text": [
      "HOLA--MUNDO\n"
     ]
    }
   ],
   "source": [
    "text3= '--'.join(words)\n",
    "print(text3)"
   ]
  },
  {
   "cell_type": "code",
   "execution_count": 6,
   "metadata": {},
   "outputs": [
    {
     "data": {
      "text/plain": [
       "'hola gente'"
      ]
     },
     "execution_count": 6,
     "metadata": {},
     "output_type": "execute_result"
    }
   ],
   "source": [
    "texto = '    hola gente   '\n",
    "texto.strip()"
   ]
  },
  {
   "cell_type": "code",
   "execution_count": 7,
   "metadata": {},
   "outputs": [
    {
     "data": {
      "text/plain": [
       "'    hola PLAGA   '"
      ]
     },
     "execution_count": 7,
     "metadata": {},
     "output_type": "execute_result"
    }
   ],
   "source": [
    "texto.replace('gente','PLAGA')"
   ]
  },
  {
   "cell_type": "code",
   "execution_count": 8,
   "metadata": {},
   "outputs": [
    {
     "data": {
      "text/plain": [
       "7"
      ]
     },
     "execution_count": 8,
     "metadata": {},
     "output_type": "execute_result"
    }
   ],
   "source": [
    "texto.find('a')"
   ]
  },
  {
   "cell_type": "code",
   "execution_count": 9,
   "metadata": {},
   "outputs": [],
   "source": [
    "from datetime import date"
   ]
  },
  {
   "cell_type": "code",
   "execution_count": 10,
   "metadata": {},
   "outputs": [
    {
     "name": "stdout",
     "output_type": "stream",
     "text": [
      "2024-07-04\n"
     ]
    }
   ],
   "source": [
    "hoy =date.today()\n",
    "print(hoy)"
   ]
  },
  {
   "cell_type": "code",
   "execution_count": 11,
   "metadata": {},
   "outputs": [
    {
     "name": "stdout",
     "output_type": "stream",
     "text": [
      "2024\n",
      "7\n",
      "4\n"
     ]
    }
   ],
   "source": [
    "año=hoy.year\n",
    "print(año)\n",
    "mes=hoy.month\n",
    "print(mes)\n",
    "dia=hoy.day\n",
    "print(dia)"
   ]
  },
  {
   "cell_type": "code",
   "execution_count": 12,
   "metadata": {},
   "outputs": [],
   "source": [
    "from datetime import timedelta"
   ]
  },
  {
   "cell_type": "code",
   "execution_count": 13,
   "metadata": {},
   "outputs": [
    {
     "name": "stdout",
     "output_type": "stream",
     "text": [
      "2024-07-03\n"
     ]
    }
   ],
   "source": [
    "ayer=hoy-timedelta(1)\n",
    "print(ayer)"
   ]
  },
  {
   "cell_type": "code",
   "execution_count": 14,
   "metadata": {},
   "outputs": [
    {
     "name": "stdout",
     "output_type": "stream",
     "text": [
      "2024-07-05\n"
     ]
    }
   ],
   "source": [
    "mañana= hoy+timedelta(1)\n",
    "print(mañana)"
   ]
  },
  {
   "cell_type": "code",
   "execution_count": 15,
   "metadata": {},
   "outputs": [],
   "source": [
    "from datetime import datetime"
   ]
  },
  {
   "cell_type": "code",
   "execution_count": 16,
   "metadata": {},
   "outputs": [
    {
     "name": "stdout",
     "output_type": "stream",
     "text": [
      "2024-07-04 16:53:26.916663\n"
     ]
    }
   ],
   "source": [
    "ahora=datetime.now()\n",
    "print(ahora)"
   ]
  },
  {
   "cell_type": "code",
   "execution_count": 17,
   "metadata": {},
   "outputs": [
    {
     "name": "stdout",
     "output_type": "stream",
     "text": [
      "16\n",
      "53\n",
      "26\n"
     ]
    }
   ],
   "source": [
    "hora=ahora.hour\n",
    "print(hora)\n",
    "minuto=ahora.minute\n",
    "print(minuto)\n",
    "segundo=ahora.second\n",
    "print(segundo)"
   ]
  },
  {
   "cell_type": "code",
   "execution_count": 18,
   "metadata": {},
   "outputs": [],
   "source": [
    "duracion =timedelta(hours=8,minutes=45,seconds=20)"
   ]
  },
  {
   "cell_type": "code",
   "execution_count": 19,
   "metadata": {},
   "outputs": [
    {
     "name": "stdout",
     "output_type": "stream",
     "text": [
      "2024-07-05 01:38:46.916663\n"
     ]
    }
   ],
   "source": [
    "futuro = ahora+duracion\n",
    "print(futuro)"
   ]
  },
  {
   "cell_type": "code",
   "execution_count": 20,
   "metadata": {},
   "outputs": [
    {
     "name": "stdout",
     "output_type": "stream",
     "text": [
      "2024-07-04 08:08:06.916663\n"
     ]
    }
   ],
   "source": [
    "pasado = ahora-duracion\n",
    "print(pasado)"
   ]
  },
  {
   "cell_type": "code",
   "execution_count": 21,
   "metadata": {},
   "outputs": [
    {
     "name": "stdout",
     "output_type": "stream",
     "text": [
      "1984-02-27 00:00:00\n",
      "<class 'datetime.datetime'>\n"
     ]
    }
   ],
   "source": [
    "data ='27-02-1984'\n",
    "data_format= datetime.strptime(data,'%d-%m-%Y')\n",
    "print(data_format)\n",
    "print(type(data_format))"
   ]
  },
  {
   "cell_type": "code",
   "execution_count": 22,
   "metadata": {},
   "outputs": [
    {
     "name": "stdout",
     "output_type": "stream",
     "text": [
      "2024/05/07\n",
      "<class 'str'>\n"
     ]
    }
   ],
   "source": [
    "str_date=datetime.strftime(mañana,'%Y/%d/%m')\n",
    "print(str_date)\n",
    "print(type(str_date))"
   ]
  },
  {
   "cell_type": "code",
   "execution_count": 23,
   "metadata": {},
   "outputs": [],
   "source": [
    "tupla=(1,'a',3,4,True,8.27)"
   ]
  },
  {
   "cell_type": "code",
   "execution_count": 24,
   "metadata": {},
   "outputs": [
    {
     "name": "stdout",
     "output_type": "stream",
     "text": [
      "(1, 'a', 3, 4, True, 8.27)\n"
     ]
    }
   ],
   "source": [
    "if 2 in tupla:\n",
    "    print('Si hay uno en la tupla')\n",
    "elif len(tupla)<=5:\n",
    "    print('el tamaño no exede los 6 elemetos')\n",
    "else:\n",
    "    print(tupla)"
   ]
  },
  {
   "cell_type": "code",
   "execution_count": 25,
   "metadata": {},
   "outputs": [
    {
     "name": "stdout",
     "output_type": "stream",
     "text": [
      "el numero es 1 y su raiz cuadrada es 1.0\n",
      "el numero es 2 y su raiz cuadrada es 1.4142135623730951\n",
      "el numero es 3 y su raiz cuadrada es 1.7320508075688772\n",
      "el numero es 4 y su raiz cuadrada es 2.0\n",
      "el numero es 5 y su raiz cuadrada es 2.23606797749979\n",
      "el numero es 6 y su raiz cuadrada es 2.449489742783178\n",
      "el numero es 7 y su raiz cuadrada es 2.6457513110645907\n",
      "el numero es 8 y su raiz cuadrada es 2.8284271247461903\n",
      "el numero es 9 y su raiz cuadrada es 3.0\n",
      "el numero es 10 y su raiz cuadrada es 3.1622776601683795\n",
      "el numero es 11 y su raiz cuadrada es 3.3166247903554\n",
      "el numero es 12 y su raiz cuadrada es 3.4641016151377544\n",
      "el numero es 13 y su raiz cuadrada es 3.605551275463989\n",
      "el numero es 14 y su raiz cuadrada es 3.7416573867739413\n",
      "el numero es 15 y su raiz cuadrada es 3.872983346207417\n",
      "el numero es 16 y su raiz cuadrada es 4.0\n",
      "el numero es 17 y su raiz cuadrada es 4.123105625617661\n",
      "el numero es 18 y su raiz cuadrada es 4.242640687119285\n",
      "el numero es 19 y su raiz cuadrada es 4.358898943540674\n"
     ]
    }
   ],
   "source": [
    "i=1\n",
    "while i<20:\n",
    "    print(f'el numero es {i} y su raiz cuadrada es {i**(0.5)}')\n",
    "    i+=1"
   ]
  },
  {
   "cell_type": "code",
   "execution_count": 26,
   "metadata": {},
   "outputs": [
    {
     "name": "stdout",
     "output_type": "stream",
     "text": [
      "999999999\n",
      "88888888\n",
      "7777777\n",
      "666666\n",
      "55555\n",
      "4444\n",
      "333\n",
      "22\n",
      "1\n"
     ]
    }
   ],
   "source": [
    "a=9\n",
    "while a >0:\n",
    "    print(f'{str(a)*a}')\n",
    "    a-=1"
   ]
  },
  {
   "cell_type": "code",
   "execution_count": 27,
   "metadata": {},
   "outputs": [
    {
     "name": "stdout",
     "output_type": "stream",
     "text": [
      "1\n",
      "2\n",
      "3\n",
      "4\n",
      "5\n",
      "6\n",
      "7\n",
      "8\n",
      "9\n",
      "10\n",
      "11\n",
      "12\n",
      "13\n"
     ]
    }
   ],
   "source": [
    "i=0\n",
    "while i <=20:\n",
    "    if i == 13:\n",
    "        break\n",
    "    i+=1\n",
    "    print(i)"
   ]
  },
  {
   "cell_type": "code",
   "execution_count": 28,
   "metadata": {},
   "outputs": [
    {
     "name": "stdout",
     "output_type": "stream",
     "text": [
      "1\n",
      "2\n",
      "3\n",
      "4\n",
      "5\n",
      "6\n",
      "7\n",
      "es 8 y ya no aplica\n"
     ]
    }
   ],
   "source": [
    "i=1\n",
    "while i<=7 and i != 0:\n",
    "    \n",
    "    print(i)\n",
    "    i+=1\n",
    "else:\n",
    "    print(f'es {i} y ya no aplica')"
   ]
  },
  {
   "cell_type": "code",
   "execution_count": 29,
   "metadata": {},
   "outputs": [
    {
     "name": "stdout",
     "output_type": "stream",
     "text": [
      "1\n",
      "3\n",
      "5\n",
      "7\n",
      "9\n",
      "11\n",
      "13\n",
      "15\n",
      "17\n",
      "19\n"
     ]
    }
   ],
   "source": [
    "i=0\n",
    "while i <=20:\n",
    "    if i%2!=1:\n",
    "        i+=1\n",
    "        continue\n",
    "    print(i)\n",
    "    i+=1"
   ]
  },
  {
   "cell_type": "code",
   "execution_count": 30,
   "metadata": {},
   "outputs": [
    {
     "name": "stdout",
     "output_type": "stream",
     "text": [
      "el numero es 0 y su raiz cuata es 0.0\n",
      "el numero es 1 y su raiz cuata es 1.0\n",
      "el numero es 2 y su raiz cuata es 1.189207115002721\n",
      "el numero es 3 y su raiz cuata es 1.3160740129524924\n",
      "el numero es 4 y su raiz cuata es 1.4142135623730951\n",
      "el numero es 5 y su raiz cuata es 1.4953487812212205\n",
      "el numero es 6 y su raiz cuata es 1.5650845800732873\n",
      "el numero es 7 y su raiz cuata es 1.6265765616977856\n",
      "el numero es 8 y su raiz cuata es 1.681792830507429\n",
      "el numero es 9 y su raiz cuata es 1.7320508075688772\n",
      "Todos los numeros fueron listados\n"
     ]
    }
   ],
   "source": [
    "for i in range(10):\n",
    "    print(f'el numero es {i} y su raiz cuata es {i**(1/4)}')\n",
    "    if i==12:\n",
    "        break\n",
    "else:\n",
    "    print('Todos los numeros fueron listados')"
   ]
  },
  {
   "cell_type": "code",
   "execution_count": 31,
   "metadata": {},
   "outputs": [],
   "source": [
    "import random"
   ]
  },
  {
   "cell_type": "code",
   "execution_count": 32,
   "metadata": {},
   "outputs": [
    {
     "name": "stdout",
     "output_type": "stream",
     "text": [
      "el correcto era 6\n"
     ]
    }
   ],
   "source": [
    "var=random.randint(1,6)\n",
    "contador =0\n",
    "while contador <3:\n",
    "    lance=int(input('Elija un numero entre 1 y 6: '))\n",
    "    if lance==var:\n",
    "        print('Ganaste peluche fiu fiu!!!')\n",
    "        break\n",
    "    else:\n",
    "        contador +=1\n",
    "if contador>2:\n",
    "    print(f'el correcto era {var}')"
   ]
  },
  {
   "cell_type": "code",
   "execution_count": 33,
   "metadata": {},
   "outputs": [
    {
     "name": "stdout",
     "output_type": "stream",
     "text": [
      "[('s', 's', 's', 'c', 's'), ('s', 'c', 'c', 'c', 's'), ('c', 'c', 's', 'c', 's'), ('c', 's', 'c', 'c', 's'), ('s', 's', 's', 's', 's'), ('c', 's', 's', 'c', 's'), ('c', 'c', 'c', 'c', 's'), ('c', 'c', 'c', 'c', 'c'), ('c', 's', 's', 'c', 'c'), ('c', 'c', 'c', 's', 'c'), ('s', 's', 's', 'c', 'c'), ('s', 's', 'c', 's', 's'), ('c', 's', 'c', 's', 'c'), ('s', 'c', 'c', 's', 's'), ('s', 's', 'c', 's', 'c'), ('s', 's', 'c', 'c', 's'), ('s', 'c', 'c', 's', 'c'), ('c', 's', 'c', 'c', 's'), ('c', 's', 's', 'c', 's'), ('c', 'c', 's', 's', 'c'), ('s', 's', 's', 'c', 'c'), ('s', 's', 's', 's', 'c'), ('s', 'c', 'c', 's', 's'), ('c', 'c', 'c', 's', 's'), ('s', 'c', 's', 's', 'c'), ('s', 'c', 'c', 's', 's'), ('c', 'c', 's', 'c', 'c'), ('s', 's', 's', 'c', 'c'), ('c', 's', 'c', 'c', 's'), ('s', 's', 'c', 's', 'c'), ('s', 'c', 's', 's', 'c'), ('s', 'c', 's', 'c', 'c'), ('s', 'c', 'c', 'c', 'c'), ('c', 's', 's', 's', 's'), ('s', 'c', 'c', 's', 'c'), ('c', 's', 'c', 's', 'c'), ('s', 'c', 's', 's', 's'), ('c', 'c', 's', 's', 's'), ('s', 'c', 'c', 'c', 'c'), ('c', 's', 's', 'c', 's'), ('c', 'c', 'c', 's', 'c'), ('c', 's', 'c', 'c', 's'), ('c', 'c', 'c', 's', 'c'), ('c', 's', 'c', 'c', 's'), ('s', 'c', 's', 's', 's'), ('s', 's', 'c', 's', 'c'), ('c', 'c', 'c', 's', 's'), ('s', 's', 'c', 'c', 'c'), ('c', 'c', 'c', 's', 's'), ('s', 's', 's', 's', 's'), ('c', 'c', 's', 'c', 's'), ('c', 's', 'c', 's', 'c'), ('s', 'c', 'c', 's', 'c'), ('c', 's', 'c', 'c', 'c'), ('c', 'c', 's', 's', 's'), ('s', 'c', 'c', 's', 'c'), ('c', 'c', 'c', 'c', 'c'), ('s', 'c', 'c', 'c', 'c'), ('c', 'c', 's', 's', 's'), ('c', 'c', 'c', 's', 's'), ('c', 'c', 's', 's', 's'), ('c', 's', 'c', 'c', 'c'), ('c', 'c', 's', 'c', 's'), ('s', 'c', 's', 'c', 'c'), ('s', 'c', 'c', 'c', 'c'), ('s', 'c', 'c', 'c', 's'), ('s', 'c', 's', 'c', 'c'), ('s', 's', 's', 's', 'c'), ('s', 'c', 's', 's', 's'), ('c', 'c', 's', 'c', 's'), ('c', 's', 's', 's', 'c'), ('s', 'c', 's', 's', 's'), ('c', 's', 's', 'c', 's'), ('c', 's', 'c', 's', 's'), ('c', 'c', 'c', 'c', 's'), ('c', 'c', 's', 's', 's'), ('c', 's', 's', 's', 's'), ('s', 'c', 's', 's', 's'), ('c', 's', 's', 's', 'c'), ('c', 'c', 'c', 's', 'c'), ('c', 's', 's', 'c', 'c'), ('s', 's', 'c', 's', 's'), ('s', 's', 'c', 'c', 'c'), ('c', 's', 'c', 'c', 'c'), ('c', 's', 'c', 'c', 'c'), ('c', 'c', 's', 's', 'c'), ('c', 's', 'c', 'c', 'c'), ('c', 'c', 's', 'c', 's'), ('c', 'c', 'c', 'c', 'c'), ('s', 'c', 's', 'c', 's'), ('c', 's', 's', 'c', 'c'), ('s', 's', 'c', 'c', 's'), ('c', 's', 's', 'c', 's'), ('c', 's', 'c', 'c', 'c'), ('c', 'c', 'c', 'c', 's'), ('s', 's', 'c', 's', 'c'), ('s', 'c', 's', 'c', 's'), ('s', 's', 's', 's', 'c'), ('s', 's', 's', 's', 'c'), ('c', 'c', 's', 'c', 's')]\n",
      "{('c', 's', 's', 's', 's'), ('c', 's', 'c', 's', 's'), ('s', 'c', 'c', 's', 'c'), ('c', 'c', 'c', 's', 's'), ('s', 'c', 's', 'c', 'c'), ('s', 'c', 'c', 'c', 's'), ('s', 'c', 's', 's', 'c'), ('s', 'c', 'c', 's', 's'), ('s', 'c', 's', 'c', 's'), ('c', 's', 's', 'c', 'c'), ('s', 'c', 's', 's', 's'), ('s', 's', 's', 'c', 'c'), ('s', 's', 'c', 'c', 'c'), ('c', 'c', 's', 'c', 'c'), ('c', 's', 'c', 'c', 'c'), ('s', 's', 'c', 's', 'c'), ('c', 'c', 's', 's', 'c'), ('c', 'c', 'c', 'c', 'c'), ('s', 's', 's', 's', 'c'), ('c', 's', 's', 'c', 's'), ('s', 's', 's', 'c', 's'), ('c', 's', 's', 's', 'c'), ('c', 's', 'c', 's', 'c'), ('c', 'c', 's', 'c', 's'), ('s', 's', 'c', 'c', 's'), ('c', 'c', 'c', 's', 'c'), ('c', 's', 'c', 'c', 's'), ('s', 'c', 'c', 'c', 'c'), ('s', 's', 'c', 's', 's'), ('c', 'c', 's', 's', 's'), ('c', 'c', 'c', 'c', 's'), ('s', 's', 's', 's', 's')}\n",
      "32\n",
      "('c', 's', 's', 's', 's') = 2\n",
      "('c', 's', 'c', 's', 's') = 1\n",
      "('s', 'c', 'c', 's', 'c') = 4\n",
      "('c', 'c', 'c', 's', 's') = 4\n",
      "('s', 'c', 's', 'c', 'c') = 3\n",
      "('s', 'c', 'c', 'c', 's') = 2\n",
      "('s', 'c', 's', 's', 'c') = 2\n",
      "('s', 'c', 'c', 's', 's') = 3\n",
      "('s', 'c', 's', 'c', 's') = 2\n",
      "('c', 's', 's', 'c', 'c') = 3\n",
      "('s', 'c', 's', 's', 's') = 5\n",
      "('s', 's', 's', 'c', 'c') = 3\n",
      "('s', 's', 'c', 'c', 'c') = 2\n",
      "('c', 'c', 's', 'c', 'c') = 1\n",
      "('c', 's', 'c', 'c', 'c') = 6\n",
      "('s', 's', 'c', 's', 'c') = 4\n",
      "('c', 'c', 's', 's', 'c') = 2\n",
      "('c', 'c', 'c', 'c', 'c') = 3\n",
      "('s', 's', 's', 's', 'c') = 4\n",
      "('c', 's', 's', 'c', 's') = 5\n",
      "('s', 's', 's', 'c', 's') = 1\n",
      "('c', 's', 's', 's', 'c') = 2\n",
      "('c', 's', 'c', 's', 'c') = 3\n",
      "('c', 'c', 's', 'c', 's') = 6\n",
      "('s', 's', 'c', 'c', 's') = 2\n",
      "('c', 'c', 'c', 's', 'c') = 4\n",
      "('c', 's', 'c', 'c', 's') = 5\n",
      "('s', 'c', 'c', 'c', 'c') = 4\n",
      "('s', 's', 'c', 's', 's') = 2\n",
      "('c', 'c', 's', 's', 's') = 5\n",
      "('c', 'c', 'c', 'c', 's') = 3\n",
      "('s', 's', 's', 's', 's') = 2\n"
     ]
    }
   ],
   "source": [
    "pares=[]\n",
    "for i in range(100):\n",
    "    moneda1=random.choice('cs')\n",
    "    moneda2=random.choice('cs')\n",
    "    moneda3=random.choice('cs')\n",
    "    moneda4=random.choice('cs')\n",
    "    moneda5=random.choice('cs')\n",
    "    tupla_resiltados=(moneda1,moneda2,moneda3,moneda4,moneda5)\n",
    "    pares.append(tupla_resiltados)\n",
    "print(pares)\n",
    "conjunto=set(pares)\n",
    "print(conjunto)\n",
    "print(len(conjunto))\n",
    "for uni in conjunto:\n",
    "    print (f'{uni} = {pares.count(uni)}')"
   ]
  },
  {
   "cell_type": "code",
   "execution_count": 34,
   "metadata": {},
   "outputs": [
    {
     "name": "stdout",
     "output_type": "stream",
     "text": [
      "fueron 16 alumnos aprovados y 18 que deben repetir por vagos!!\n"
     ]
    }
   ],
   "source": [
    "notas=[6.5,3,8,1,7,7.8,8,1,9,5,6.1,5.8,10,5.3,4.2,8,3.1,2,1,0.5,6,6.3,10,0,5,7,8,8.5,8.9,8.8,7,2,1,3]\n",
    "contador =0\n",
    "for nota in notas:\n",
    "    if nota<6:\n",
    "        contador +=1\n",
    "print(f'fueron {contador} alumnos aprovados y {len(notas)-contador} que deben repetir por vagos!!')"
   ]
  },
  {
   "cell_type": "code",
   "execution_count": 35,
   "metadata": {},
   "outputs": [
    {
     "name": "stdout",
     "output_type": "stream",
     "text": [
      "Chau mundo!!\n"
     ]
    }
   ],
   "source": [
    "while True:\n",
    "    opcion=int(input('Meta un comndo entre 1, 2,  o 3:'))\n",
    "    if opcion==1:\n",
    "        print('Hola mundo!!')\n",
    "    if opcion==2:\n",
    "        print('Chau mundo!!')\n",
    "    if opcion ==3:\n",
    "        break"
   ]
  },
  {
   "cell_type": "code",
   "execution_count": 36,
   "metadata": {},
   "outputs": [],
   "source": [
    "def Amortiza(monto,tasa,periodos):\n",
    "    cuota=(monto*(tasa/100))/(1-((1+(tasa/100))**(-periodos)))\n",
    "    print(f'*****La amortizacion para un prestamo de {monto}') \n",
    "    print( f'*****con una tasa de interes de {tasa}%')\n",
    "    print(f'*****durante {periodos} periodos')\n",
    "    print(cuota)\n",
    "    saldo=monto\n",
    "    for i in range(periodos+1):\n",
    "        if i ==0:\n",
    "            print('{:^10}{:^10}{:^10}{:^10}{:^10}'.format('Periodos', ' Cuota' ,  'Intereses' ,  'Capital' , 'Saldo'))\n",
    "            print( '{:^10}{:^10}{:^10}{:^10}{:^10.2f}'.format(i,' ',' ',' ',monto))\n",
    "        else:\n",
    "            intereses =(saldo*(tasa/100))\n",
    "            capital=(cuota- intereses)\n",
    "            saldo=  (saldo-capital)\n",
    "            print('{:^10}{:^10.2f}{:^10.2f}{:^10.2f}{:^10.2f}'.format(i,   cuota, intereses, capital, saldo))\n",
    "\n",
    "\n"
   ]
  },
  {
   "cell_type": "code",
   "execution_count": 68,
   "metadata": {},
   "outputs": [
    {
     "name": "stdout",
     "output_type": "stream",
     "text": [
      "*****La amortizacion para un prestamo de 10\n",
      "*****con una tasa de interes de 2%\n",
      "*****durante 10 periodos\n",
      "1.1132652786531636\n",
      " Periodos    Cuota  Intereses  Capital    Saldo   \n",
      "    0                                     10.00   \n",
      "    1        1.11      0.20      0.91      9.09   \n",
      "    2        1.11      0.18      0.93      8.16   \n",
      "    3        1.11      0.16      0.95      7.21   \n",
      "    4        1.11      0.14      0.97      6.24   \n",
      "    5        1.11      0.12      0.99      5.25   \n",
      "    6        1.11      0.10      1.01      4.24   \n",
      "    7        1.11      0.08      1.03      3.21   \n",
      "    8        1.11      0.06      1.05      2.16   \n",
      "    9        1.11      0.04      1.07      1.09   \n",
      "    10       1.11      0.02      1.09      0.00   \n"
     ]
    }
   ],
   "source": [
    "Amortiza(10,2,10)"
   ]
  },
  {
   "cell_type": "code",
   "execution_count": 38,
   "metadata": {},
   "outputs": [],
   "source": [
    "pago =lambda cantidad, interes, periodos: (cantidad*(interes/100))/(1-((1+(interes/100))**(-periodos)))"
   ]
  },
  {
   "cell_type": "code",
   "execution_count": 39,
   "metadata": {},
   "outputs": [
    {
     "data": {
      "text/plain": [
       "4004.786506526484"
      ]
     },
     "execution_count": 39,
     "metadata": {},
     "output_type": "execute_result"
    }
   ],
   "source": [
    "pago(10000,40,20)"
   ]
  },
  {
   "cell_type": "code",
   "execution_count": 40,
   "metadata": {},
   "outputs": [
    {
     "name": "stdout",
     "output_type": "stream",
     "text": [
      "['uva', 'pera', 'banana']\n"
     ]
    }
   ],
   "source": [
    "frutas=['pera','uva','banana']\n",
    "orden= lambda fruta: len(fruta)\n",
    "resultado= sorted (frutas, key=orden)\n",
    "print(resultado)"
   ]
  },
  {
   "cell_type": "code",
   "execution_count": 41,
   "metadata": {},
   "outputs": [],
   "source": [
    "frutas.append('caki')\n",
    "frutas.append('lulo')"
   ]
  },
  {
   "cell_type": "code",
   "execution_count": 42,
   "metadata": {},
   "outputs": [
    {
     "data": {
      "text/plain": [
       "['pera', 'uva', 'banana', 'caki', 'lulo']"
      ]
     },
     "execution_count": 42,
     "metadata": {},
     "output_type": "execute_result"
    }
   ],
   "source": [
    "frutas"
   ]
  },
  {
   "cell_type": "code",
   "execution_count": 43,
   "metadata": {},
   "outputs": [],
   "source": [
    "frutas.insert(0,'naranjas')"
   ]
  },
  {
   "cell_type": "code",
   "execution_count": 44,
   "metadata": {},
   "outputs": [],
   "source": [
    "frutas.remove('caki')"
   ]
  },
  {
   "cell_type": "code",
   "execution_count": 45,
   "metadata": {},
   "outputs": [
    {
     "data": {
      "text/plain": [
       "['naranjas', 'pera', 'uva', 'banana', 'lulo']"
      ]
     },
     "execution_count": 45,
     "metadata": {},
     "output_type": "execute_result"
    }
   ],
   "source": [
    "frutas"
   ]
  },
  {
   "cell_type": "code",
   "execution_count": 46,
   "metadata": {},
   "outputs": [
    {
     "data": {
      "text/plain": [
       "5"
      ]
     },
     "execution_count": 46,
     "metadata": {},
     "output_type": "execute_result"
    }
   ],
   "source": [
    "len(frutas)"
   ]
  },
  {
   "cell_type": "code",
   "execution_count": 47,
   "metadata": {},
   "outputs": [
    {
     "data": {
      "text/plain": [
       "['uva', 'pera', 'naranjas', 'lulo', 'banana']"
      ]
     },
     "execution_count": 47,
     "metadata": {},
     "output_type": "execute_result"
    }
   ],
   "source": [
    "frutas_ordenadas=sorted(frutas, reverse=True)\n",
    "frutas_ordenadas"
   ]
  },
  {
   "cell_type": "code",
   "execution_count": 48,
   "metadata": {},
   "outputs": [
    {
     "name": "stdout",
     "output_type": "stream",
     "text": [
      "<class 'set'>\n"
     ]
    }
   ],
   "source": [
    "conjunto={1,2,3,4,5,6,7,8,9}\n",
    "print(type(conjunto))"
   ]
  },
  {
   "cell_type": "code",
   "execution_count": 49,
   "metadata": {},
   "outputs": [
    {
     "data": {
      "text/plain": [
       "{1, 2, 3, 4, 5, 6, 7, 8, 9, 10}"
      ]
     },
     "execution_count": 49,
     "metadata": {},
     "output_type": "execute_result"
    }
   ],
   "source": [
    "conjunto.add(10)\n",
    "conjunto"
   ]
  },
  {
   "cell_type": "code",
   "execution_count": 50,
   "metadata": {},
   "outputs": [
    {
     "data": {
      "text/plain": [
       "{1, 2, 3, 4, 5, 6, 7, 8, 9}"
      ]
     },
     "execution_count": 50,
     "metadata": {},
     "output_type": "execute_result"
    }
   ],
   "source": [
    "conjunto.remove(10)\n",
    "conjunto"
   ]
  },
  {
   "cell_type": "code",
   "execution_count": 51,
   "metadata": {},
   "outputs": [
    {
     "data": {
      "text/plain": [
       "9"
      ]
     },
     "execution_count": 51,
     "metadata": {},
     "output_type": "execute_result"
    }
   ],
   "source": [
    "len(conjunto)"
   ]
  },
  {
   "cell_type": "code",
   "execution_count": 52,
   "metadata": {},
   "outputs": [
    {
     "data": {
      "text/plain": [
       "{1, 2, 3, 4, 5}"
      ]
     },
     "execution_count": 52,
     "metadata": {},
     "output_type": "execute_result"
    }
   ],
   "source": [
    "con1={1,2,3}\n",
    "con2={3,4,5}\n",
    "union= con1 | con2\n",
    "union\n"
   ]
  },
  {
   "cell_type": "code",
   "execution_count": 53,
   "metadata": {},
   "outputs": [
    {
     "data": {
      "text/plain": [
       "{3}"
      ]
     },
     "execution_count": 53,
     "metadata": {},
     "output_type": "execute_result"
    }
   ],
   "source": [
    "interceccion= con1 & con2\n",
    "interceccion"
   ]
  },
  {
   "cell_type": "code",
   "execution_count": 54,
   "metadata": {},
   "outputs": [
    {
     "data": {
      "text/plain": [
       "{1, 2}"
      ]
     },
     "execution_count": 54,
     "metadata": {},
     "output_type": "execute_result"
    }
   ],
   "source": [
    "con1 -con2"
   ]
  },
  {
   "cell_type": "code",
   "execution_count": 55,
   "metadata": {},
   "outputs": [
    {
     "data": {
      "text/plain": [
       "{4, 5}"
      ]
     },
     "execution_count": 55,
     "metadata": {},
     "output_type": "execute_result"
    }
   ],
   "source": [
    "con2-con1"
   ]
  },
  {
   "cell_type": "code",
   "execution_count": 56,
   "metadata": {},
   "outputs": [
    {
     "data": {
      "text/plain": [
       "{1, 2, 4, 5}"
      ]
     },
     "execution_count": 56,
     "metadata": {},
     "output_type": "execute_result"
    }
   ],
   "source": [
    "simetrica=con1.symmetric_difference(con2)\n",
    "simetrica"
   ]
  },
  {
   "cell_type": "code",
   "execution_count": 57,
   "metadata": {},
   "outputs": [],
   "source": [
    "tupla=('caca',1 , 3 , 5, True, 'hola mundo')\n",
    "integer=tupla.count('caca')"
   ]
  },
  {
   "cell_type": "code",
   "execution_count": 58,
   "metadata": {},
   "outputs": [
    {
     "data": {
      "text/plain": [
       "1"
      ]
     },
     "execution_count": 58,
     "metadata": {},
     "output_type": "execute_result"
    }
   ],
   "source": [
    "integer"
   ]
  },
  {
   "cell_type": "code",
   "execution_count": 59,
   "metadata": {},
   "outputs": [
    {
     "data": {
      "text/plain": [
       "3"
      ]
     },
     "execution_count": 59,
     "metadata": {},
     "output_type": "execute_result"
    }
   ],
   "source": [
    "tupla.index(5)"
   ]
  },
  {
   "cell_type": "code",
   "execution_count": 60,
   "metadata": {},
   "outputs": [],
   "source": [
    "diccio= {'Name':'Jhon','Age':30,'city':'Curitiva'}"
   ]
  },
  {
   "cell_type": "code",
   "execution_count": 61,
   "metadata": {},
   "outputs": [
    {
     "name": "stdout",
     "output_type": "stream",
     "text": [
      "Name\n",
      "Age\n",
      "city\n"
     ]
    }
   ],
   "source": [
    "for ky in diccio:\n",
    "    print(ky)"
   ]
  },
  {
   "cell_type": "code",
   "execution_count": 62,
   "metadata": {},
   "outputs": [
    {
     "name": "stdout",
     "output_type": "stream",
     "text": [
      "Jhon\n",
      "30\n",
      "Curitiva\n"
     ]
    }
   ],
   "source": [
    "for valu in diccio.values():\n",
    "    print(valu)"
   ]
  },
  {
   "cell_type": "code",
   "execution_count": 63,
   "metadata": {},
   "outputs": [
    {
     "data": {
      "text/plain": [
       "3"
      ]
     },
     "execution_count": 63,
     "metadata": {},
     "output_type": "execute_result"
    }
   ],
   "source": [
    "len(diccio)"
   ]
  },
  {
   "cell_type": "code",
   "execution_count": null,
   "metadata": {},
   "outputs": [],
   "source": []
  }
 ],
 "metadata": {
  "kernelspec": {
   "display_name": "Python 3",
   "language": "python",
   "name": "python3"
  },
  "language_info": {
   "codemirror_mode": {
    "name": "ipython",
    "version": 3
   },
   "file_extension": ".py",
   "mimetype": "text/x-python",
   "name": "python",
   "nbconvert_exporter": "python",
   "pygments_lexer": "ipython3",
   "version": "3.10.11"
  }
 },
 "nbformat": 4,
 "nbformat_minor": 2
}
